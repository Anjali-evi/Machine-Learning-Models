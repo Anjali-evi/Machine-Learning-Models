{
 "cells": [
  {
   "cell_type": "code",
   "execution_count": 57,
   "id": "4f5f4c4a",
   "metadata": {},
   "outputs": [],
   "source": [
    "import pandas as pd\n",
    "dataset = pd.read_csv('Zoo.csv')"
   ]
  },
  {
   "cell_type": "code",
   "execution_count": 58,
   "id": "ae707e71",
   "metadata": {},
   "outputs": [
    {
     "data": {
      "text/html": [
       "<div>\n",
       "<style scoped>\n",
       "    .dataframe tbody tr th:only-of-type {\n",
       "        vertical-align: middle;\n",
       "    }\n",
       "\n",
       "    .dataframe tbody tr th {\n",
       "        vertical-align: top;\n",
       "    }\n",
       "\n",
       "    .dataframe thead th {\n",
       "        text-align: right;\n",
       "    }\n",
       "</style>\n",
       "<table border=\"1\" class=\"dataframe\">\n",
       "  <thead>\n",
       "    <tr style=\"text-align: right;\">\n",
       "      <th></th>\n",
       "      <th>animal name</th>\n",
       "      <th>hair</th>\n",
       "      <th>feathers</th>\n",
       "      <th>eggs</th>\n",
       "      <th>milk</th>\n",
       "      <th>airborne</th>\n",
       "      <th>aquatic</th>\n",
       "      <th>predator</th>\n",
       "      <th>toothed</th>\n",
       "      <th>backbone</th>\n",
       "      <th>breathes</th>\n",
       "      <th>venomous</th>\n",
       "      <th>fins</th>\n",
       "      <th>legs</th>\n",
       "      <th>tail</th>\n",
       "      <th>domestic</th>\n",
       "      <th>catsize</th>\n",
       "      <th>type</th>\n",
       "    </tr>\n",
       "  </thead>\n",
       "  <tbody>\n",
       "    <tr>\n",
       "      <th>0</th>\n",
       "      <td>aardvark</td>\n",
       "      <td>1</td>\n",
       "      <td>0</td>\n",
       "      <td>0</td>\n",
       "      <td>1</td>\n",
       "      <td>0</td>\n",
       "      <td>0</td>\n",
       "      <td>1</td>\n",
       "      <td>1</td>\n",
       "      <td>1</td>\n",
       "      <td>1</td>\n",
       "      <td>0</td>\n",
       "      <td>0</td>\n",
       "      <td>4</td>\n",
       "      <td>0</td>\n",
       "      <td>0</td>\n",
       "      <td>1</td>\n",
       "      <td>1</td>\n",
       "    </tr>\n",
       "    <tr>\n",
       "      <th>1</th>\n",
       "      <td>antelope</td>\n",
       "      <td>1</td>\n",
       "      <td>0</td>\n",
       "      <td>0</td>\n",
       "      <td>1</td>\n",
       "      <td>0</td>\n",
       "      <td>0</td>\n",
       "      <td>0</td>\n",
       "      <td>1</td>\n",
       "      <td>1</td>\n",
       "      <td>1</td>\n",
       "      <td>0</td>\n",
       "      <td>0</td>\n",
       "      <td>4</td>\n",
       "      <td>1</td>\n",
       "      <td>0</td>\n",
       "      <td>1</td>\n",
       "      <td>1</td>\n",
       "    </tr>\n",
       "    <tr>\n",
       "      <th>2</th>\n",
       "      <td>bass</td>\n",
       "      <td>0</td>\n",
       "      <td>0</td>\n",
       "      <td>1</td>\n",
       "      <td>0</td>\n",
       "      <td>0</td>\n",
       "      <td>1</td>\n",
       "      <td>1</td>\n",
       "      <td>1</td>\n",
       "      <td>1</td>\n",
       "      <td>0</td>\n",
       "      <td>0</td>\n",
       "      <td>1</td>\n",
       "      <td>0</td>\n",
       "      <td>1</td>\n",
       "      <td>0</td>\n",
       "      <td>0</td>\n",
       "      <td>4</td>\n",
       "    </tr>\n",
       "    <tr>\n",
       "      <th>3</th>\n",
       "      <td>bear</td>\n",
       "      <td>1</td>\n",
       "      <td>0</td>\n",
       "      <td>0</td>\n",
       "      <td>1</td>\n",
       "      <td>0</td>\n",
       "      <td>0</td>\n",
       "      <td>1</td>\n",
       "      <td>1</td>\n",
       "      <td>1</td>\n",
       "      <td>1</td>\n",
       "      <td>0</td>\n",
       "      <td>0</td>\n",
       "      <td>4</td>\n",
       "      <td>0</td>\n",
       "      <td>0</td>\n",
       "      <td>1</td>\n",
       "      <td>1</td>\n",
       "    </tr>\n",
       "    <tr>\n",
       "      <th>4</th>\n",
       "      <td>boar</td>\n",
       "      <td>1</td>\n",
       "      <td>0</td>\n",
       "      <td>0</td>\n",
       "      <td>1</td>\n",
       "      <td>0</td>\n",
       "      <td>0</td>\n",
       "      <td>1</td>\n",
       "      <td>1</td>\n",
       "      <td>1</td>\n",
       "      <td>1</td>\n",
       "      <td>0</td>\n",
       "      <td>0</td>\n",
       "      <td>4</td>\n",
       "      <td>1</td>\n",
       "      <td>0</td>\n",
       "      <td>1</td>\n",
       "      <td>1</td>\n",
       "    </tr>\n",
       "  </tbody>\n",
       "</table>\n",
       "</div>"
      ],
      "text/plain": [
       "  animal name  hair  feathers  eggs  milk  airborne  aquatic  predator  \\\n",
       "0    aardvark     1         0     0     1         0        0         1   \n",
       "1    antelope     1         0     0     1         0        0         0   \n",
       "2        bass     0         0     1     0         0        1         1   \n",
       "3        bear     1         0     0     1         0        0         1   \n",
       "4        boar     1         0     0     1         0        0         1   \n",
       "\n",
       "   toothed  backbone  breathes  venomous  fins  legs  tail  domestic  catsize  \\\n",
       "0        1         1         1         0     0     4     0         0        1   \n",
       "1        1         1         1         0     0     4     1         0        1   \n",
       "2        1         1         0         0     1     0     1         0        0   \n",
       "3        1         1         1         0     0     4     0         0        1   \n",
       "4        1         1         1         0     0     4     1         0        1   \n",
       "\n",
       "   type  \n",
       "0     1  \n",
       "1     1  \n",
       "2     4  \n",
       "3     1  \n",
       "4     1  "
      ]
     },
     "execution_count": 58,
     "metadata": {},
     "output_type": "execute_result"
    }
   ],
   "source": [
    "dataset.head(5)"
   ]
  },
  {
   "cell_type": "code",
   "execution_count": 59,
   "id": "6004f75e",
   "metadata": {},
   "outputs": [
    {
     "data": {
      "text/plain": [
       "(101, 18)"
      ]
     },
     "execution_count": 59,
     "metadata": {},
     "output_type": "execute_result"
    }
   ],
   "source": [
    "dataset.shape"
   ]
  },
  {
   "cell_type": "code",
   "execution_count": 60,
   "id": "bc90d744",
   "metadata": {},
   "outputs": [
    {
     "data": {
      "text/plain": [
       "1    41\n",
       "2    20\n",
       "4    13\n",
       "7    10\n",
       "6     8\n",
       "3     5\n",
       "5     4\n",
       "Name: type, dtype: int64"
      ]
     },
     "execution_count": 60,
     "metadata": {},
     "output_type": "execute_result"
    }
   ],
   "source": [
    "dataset['type'].value_counts()"
   ]
  },
  {
   "cell_type": "code",
   "execution_count": 61,
   "id": "476b9ee9",
   "metadata": {},
   "outputs": [
    {
     "data": {
      "text/plain": [
       "4    38\n",
       "2    27\n",
       "0    23\n",
       "6    10\n",
       "8     2\n",
       "5     1\n",
       "Name: legs, dtype: int64"
      ]
     },
     "execution_count": 61,
     "metadata": {},
     "output_type": "execute_result"
    }
   ],
   "source": [
    "dataset['legs'].value_counts()"
   ]
  },
  {
   "cell_type": "code",
   "execution_count": 62,
   "id": "20971218",
   "metadata": {},
   "outputs": [],
   "source": [
    "X = dataset.iloc[:,1:]"
   ]
  },
  {
   "cell_type": "code",
   "execution_count": 63,
   "id": "f0568dca",
   "metadata": {},
   "outputs": [],
   "source": [
    "X = pd.get_dummies(X, columns=['legs'])"
   ]
  },
  {
   "cell_type": "code",
   "execution_count": 64,
   "id": "8c0b4d3f",
   "metadata": {},
   "outputs": [
    {
     "data": {
      "text/plain": [
       "Index(['hair', 'feathers', 'eggs', 'milk', 'airborne', 'aquatic', 'predator',\n",
       "       'toothed', 'backbone', 'breathes', 'venomous', 'fins', 'tail',\n",
       "       'domestic', 'catsize', 'type', 'legs_0', 'legs_2', 'legs_4', 'legs_5',\n",
       "       'legs_6', 'legs_8'],\n",
       "      dtype='object')"
      ]
     },
     "execution_count": 64,
     "metadata": {},
     "output_type": "execute_result"
    }
   ],
   "source": [
    "X.columns"
   ]
  },
  {
   "cell_type": "code",
   "execution_count": 66,
   "id": "dfc5c4e7",
   "metadata": {
    "scrolled": true
   },
   "outputs": [
    {
     "data": {
      "text/html": [
       "<div>\n",
       "<style scoped>\n",
       "    .dataframe tbody tr th:only-of-type {\n",
       "        vertical-align: middle;\n",
       "    }\n",
       "\n",
       "    .dataframe tbody tr th {\n",
       "        vertical-align: top;\n",
       "    }\n",
       "\n",
       "    .dataframe thead th {\n",
       "        text-align: right;\n",
       "    }\n",
       "</style>\n",
       "<table border=\"1\" class=\"dataframe\">\n",
       "  <thead>\n",
       "    <tr style=\"text-align: right;\">\n",
       "      <th></th>\n",
       "      <th>animal name</th>\n",
       "      <th>hair</th>\n",
       "      <th>feathers</th>\n",
       "      <th>eggs</th>\n",
       "      <th>milk</th>\n",
       "      <th>airborne</th>\n",
       "      <th>aquatic</th>\n",
       "      <th>predator</th>\n",
       "      <th>toothed</th>\n",
       "      <th>backbone</th>\n",
       "      <th>breathes</th>\n",
       "      <th>venomous</th>\n",
       "      <th>fins</th>\n",
       "      <th>legs</th>\n",
       "      <th>tail</th>\n",
       "      <th>domestic</th>\n",
       "      <th>catsize</th>\n",
       "      <th>type</th>\n",
       "    </tr>\n",
       "  </thead>\n",
       "  <tbody>\n",
       "    <tr>\n",
       "      <th>0</th>\n",
       "      <td>aardvark</td>\n",
       "      <td>1</td>\n",
       "      <td>0</td>\n",
       "      <td>0</td>\n",
       "      <td>1</td>\n",
       "      <td>0</td>\n",
       "      <td>0</td>\n",
       "      <td>1</td>\n",
       "      <td>1</td>\n",
       "      <td>1</td>\n",
       "      <td>1</td>\n",
       "      <td>0</td>\n",
       "      <td>0</td>\n",
       "      <td>4</td>\n",
       "      <td>0</td>\n",
       "      <td>0</td>\n",
       "      <td>1</td>\n",
       "      <td>1</td>\n",
       "    </tr>\n",
       "    <tr>\n",
       "      <th>1</th>\n",
       "      <td>antelope</td>\n",
       "      <td>1</td>\n",
       "      <td>0</td>\n",
       "      <td>0</td>\n",
       "      <td>1</td>\n",
       "      <td>0</td>\n",
       "      <td>0</td>\n",
       "      <td>0</td>\n",
       "      <td>1</td>\n",
       "      <td>1</td>\n",
       "      <td>1</td>\n",
       "      <td>0</td>\n",
       "      <td>0</td>\n",
       "      <td>4</td>\n",
       "      <td>1</td>\n",
       "      <td>0</td>\n",
       "      <td>1</td>\n",
       "      <td>1</td>\n",
       "    </tr>\n",
       "    <tr>\n",
       "      <th>2</th>\n",
       "      <td>bass</td>\n",
       "      <td>0</td>\n",
       "      <td>0</td>\n",
       "      <td>1</td>\n",
       "      <td>0</td>\n",
       "      <td>0</td>\n",
       "      <td>1</td>\n",
       "      <td>1</td>\n",
       "      <td>1</td>\n",
       "      <td>1</td>\n",
       "      <td>0</td>\n",
       "      <td>0</td>\n",
       "      <td>1</td>\n",
       "      <td>0</td>\n",
       "      <td>1</td>\n",
       "      <td>0</td>\n",
       "      <td>0</td>\n",
       "      <td>4</td>\n",
       "    </tr>\n",
       "  </tbody>\n",
       "</table>\n",
       "</div>"
      ],
      "text/plain": [
       "  animal name  hair  feathers  eggs  milk  airborne  aquatic  predator  \\\n",
       "0    aardvark     1         0     0     1         0        0         1   \n",
       "1    antelope     1         0     0     1         0        0         0   \n",
       "2        bass     0         0     1     0         0        1         1   \n",
       "\n",
       "   toothed  backbone  breathes  venomous  fins  legs  tail  domestic  catsize  \\\n",
       "0        1         1         1         0     0     4     0         0        1   \n",
       "1        1         1         1         0     0     4     1         0        1   \n",
       "2        1         1         0         0     1     0     1         0        0   \n",
       "\n",
       "   type  \n",
       "0     1  \n",
       "1     1  \n",
       "2     4  "
      ]
     },
     "execution_count": 66,
     "metadata": {},
     "output_type": "execute_result"
    }
   ],
   "source": [
    "dataset.head(3)"
   ]
  },
  {
   "cell_type": "code",
   "execution_count": 67,
   "id": "42397cfa",
   "metadata": {},
   "outputs": [],
   "source": [
    "y = dataset.iloc[:,-1]"
   ]
  },
  {
   "cell_type": "code",
   "execution_count": 68,
   "id": "79a202fd",
   "metadata": {},
   "outputs": [
    {
     "data": {
      "text/plain": [
       "0      1\n",
       "1      1\n",
       "2      4\n",
       "3      1\n",
       "4      1\n",
       "      ..\n",
       "96     1\n",
       "97     6\n",
       "98     1\n",
       "99     7\n",
       "100    2\n",
       "Name: type, Length: 101, dtype: int64"
      ]
     },
     "execution_count": 68,
     "metadata": {},
     "output_type": "execute_result"
    }
   ],
   "source": [
    "y"
   ]
  },
  {
   "cell_type": "code",
   "execution_count": 69,
   "id": "ca233932",
   "metadata": {
    "scrolled": true
   },
   "outputs": [
    {
     "data": {
      "text/plain": [
       "array([[1., 0., 0., ..., 0., 0., 0.],\n",
       "       [1., 0., 0., ..., 0., 0., 0.],\n",
       "       [0., 0., 1., ..., 0., 0., 0.],\n",
       "       ...,\n",
       "       [1., 0., 0., ..., 0., 0., 0.],\n",
       "       [0., 0., 1., ..., 0., 0., 0.],\n",
       "       [0., 1., 1., ..., 0., 0., 0.]])"
      ]
     },
     "execution_count": 69,
     "metadata": {},
     "output_type": "execute_result"
    }
   ],
   "source": [
    "from sklearn.preprocessing import MinMaxScaler\n",
    "scaler = MinMaxScaler()\n",
    "model=scaler.fit(X)\n",
    "X=model.transform(X)\n",
    "X"
   ]
  },
  {
   "cell_type": "markdown",
   "id": "36fdcbbe",
   "metadata": {},
   "source": [
    "### Train-Test-Split Method for finding k value: "
   ]
  },
  {
   "cell_type": "code",
   "execution_count": 70,
   "id": "a55d29a5",
   "metadata": {},
   "outputs": [],
   "source": [
    "# train test split\n",
    "from sklearn.model_selection import train_test_split\n",
    "x_train,x_test,y_train,y_test = train_test_split(X,y,test_size=0.2, shuffle=True)"
   ]
  },
  {
   "cell_type": "code",
   "execution_count": 71,
   "id": "9abb655c",
   "metadata": {},
   "outputs": [
    {
     "data": {
      "text/plain": [
       "54    1\n",
       "87    2\n",
       "85    7\n",
       "48    1\n",
       "39    6\n",
       "     ..\n",
       "40    6\n",
       "81    7\n",
       "33    2\n",
       "77    7\n",
       "8     4\n",
       "Name: type, Length: 80, dtype: int64"
      ]
     },
     "execution_count": 71,
     "metadata": {},
     "output_type": "execute_result"
    }
   ],
   "source": [
    "y_train"
   ]
  },
  {
   "cell_type": "code",
   "execution_count": 84,
   "id": "6e877217",
   "metadata": {},
   "outputs": [
    {
     "data": {
      "text/plain": [
       "0.9523809523809523"
      ]
     },
     "execution_count": 84,
     "metadata": {},
     "output_type": "execute_result"
    }
   ],
   "source": [
    "from sklearn.neighbors import KNeighborsClassifier\n",
    "from sklearn.metrics import accuracy_score\n",
    "\n",
    "# randomly taken k=4\n",
    "# not exactly the best way\n",
    "model = KNeighborsClassifier(n_neighbors=4)\n",
    "model.fit(x_train,y_train)\n",
    "y_hat = model.predict(x_test)\n",
    "accuracy_score(y_hat,y_test)"
   ]
  },
  {
   "cell_type": "markdown",
   "id": "f5f5fdc6",
   "metadata": {},
   "source": [
    "### Cross Validation Method for finding the k value:"
   ]
  },
  {
   "cell_type": "code",
   "execution_count": 109,
   "id": "0d3df722",
   "metadata": {},
   "outputs": [
    {
     "data": {
      "image/png": "[encoded data removed]",
      "text/plain": [
       "<Figure size 432x288 with 1 Axes>"
      ]
     },
     "metadata": {
      "needs_background": "light"
     },
     "output_type": "display_data"
    }
   ],
   "source": [
    "import warnings\n",
    "warnings.filterwarnings('ignore')\n",
    "from sklearn.model_selection import cross_val_score\n",
    "import matplotlib.pyplot as plt\n",
    "%matplotlib inline\n",
    "\n",
    "# choose k between 1 to 41\n",
    "k_range = [2*i+1 for i in range(0,20)]\n",
    "k_scores =[]\n",
    "\n",
    "# using iteration to calculate different k in module, the nreturn the average accuracy\n",
    "for k in k_range:\n",
    "    knn= KNeighborsClassifier(n_neighbors=k)\n",
    "    scores = cross_val_score(knn, X,y, cv=20)\n",
    "    k_scores.append(scores.mean())\n",
    "    \n",
    "# plot\n",
    "plt.bar(k_range, k_scores)\n",
    "plt.plot(k_range,k_scores,color=\"red\")\n",
    "\n",
    "plt.xlabel('Value of K for KNN')\n",
    "plt.ylabel('Cross-Validated Accuracy')\n",
    "plt.axhline(y = 0.98, color = 'b', linestyle = ':')\n",
    "plt.xticks(k_range)\n",
    "plt.ylim(0.6,1)\n",
    "plt.show()"
   ]
  },
  {
   "cell_type": "markdown",
   "id": "26e62e39",
   "metadata": {},
   "source": [
    "### Optimal value of k using range function with Train-Test-Split:"
   ]
  },
  {
   "cell_type": "code",
   "execution_count": 118,
   "id": "4c5d2ad0",
   "metadata": {},
   "outputs": [],
   "source": [
    "k_range = range(3,40,2)\n",
    "k_scores =[]\n",
    "for k in k_range:\n",
    "    model = KNeighborsClassifier(n_neighbors=k)\n",
    "    model.fit(x_train,y_train)\n",
    "    y_hat = model.predict(x_test)\n",
    "    scores = accuracy_score(y_test,y_hat)\n",
    "    k_scores.append(scores)"
   ]
  },
  {
   "cell_type": "code",
   "execution_count": 119,
   "id": "32aade20",
   "metadata": {},
   "outputs": [
    {
     "data": {
      "image/png": "[encoded data removed]",
      "text/plain": [
       "<Figure size 1080x504 with 1 Axes>"
      ]
     },
     "metadata": {
      "needs_background": "light"
     },
     "output_type": "display_data"
    }
   ],
   "source": [
    "plt.figure(figsize=(15,7))\n",
    "plt.bar(k_range,k_scores)\n",
    "plt.plot(k_range,k_scores, color=\"red\")\n",
    "plt.xticks(k_range)\n",
    "plt.ylim(0.6,1.5)\n",
    "plt.show()"
   ]
  },
  {
   "cell_type": "code",
   "execution_count": null,
   "id": "6b0fb4f2",
   "metadata": {},
   "outputs": [],
   "source": []
  }
 ],
 "metadata": {
  "kernelspec": {
   "display_name": "Python 3 (ipykernel)",
   "language": "python",
   "name": "python3"
  },
  "language_info": {
   "codemirror_mode": {
    "name": "ipython",
    "version": 3
   },
   "file_extension": ".py",
   "mimetype": "text/x-python",
   "name": "python",
   "nbconvert_exporter": "python",
   "pygments_lexer": "ipython3",
   "version": "3.9.7"
  }
 },
 "nbformat": 4,
 "nbformat_minor": 5
}
