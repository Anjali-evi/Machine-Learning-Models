{
 "cells": [
  {
   "cell_type": "code",
   "execution_count": 28,
   "id": "c485672e",
   "metadata": {},
   "outputs": [],
   "source": [
    "import pandas as pd\n",
    "import numpy as np\n",
    "import matplotlib.pyplot as plt\n",
    "%matplotlib inline\n",
    "import statsmodels.formula.api as smf\n",
    "import seaborn as sns\n",
    "from statsmodels.graphics.regressionplots import influence_plot"
   ]
  },
  {
   "cell_type": "code",
   "execution_count": 29,
   "id": "07ae4e58",
   "metadata": {},
   "outputs": [],
   "source": [
    "startup = pd.read_csv('50_Startups.csv')"
   ]
  },
  {
   "cell_type": "code",
   "execution_count": 30,
   "id": "44dc9941",
   "metadata": {},
   "outputs": [
    {
     "data": {
      "text/html": [
       "<div>\n",
       "<style scoped>\n",
       "    .dataframe tbody tr th:only-of-type {\n",
       "        vertical-align: middle;\n",
       "    }\n",
       "\n",
       "    .dataframe tbody tr th {\n",
       "        vertical-align: top;\n",
       "    }\n",
       "\n",
       "    .dataframe thead th {\n",
       "        text-align: right;\n",
       "    }\n",
       "</style>\n",
       "<table border=\"1\" class=\"dataframe\">\n",
       "  <thead>\n",
       "    <tr style=\"text-align: right;\">\n",
       "      <th></th>\n",
       "      <th>R&amp;D Spend</th>\n",
       "      <th>Administration</th>\n",
       "      <th>Marketing Spend</th>\n",
       "      <th>State</th>\n",
       "      <th>Profit</th>\n",
       "    </tr>\n",
       "  </thead>\n",
       "  <tbody>\n",
       "    <tr>\n",
       "      <th>0</th>\n",
       "      <td>165349.20</td>\n",
       "      <td>136897.80</td>\n",
       "      <td>471784.10</td>\n",
       "      <td>New York</td>\n",
       "      <td>192261.83</td>\n",
       "    </tr>\n",
       "    <tr>\n",
       "      <th>1</th>\n",
       "      <td>162597.70</td>\n",
       "      <td>151377.59</td>\n",
       "      <td>443898.53</td>\n",
       "      <td>California</td>\n",
       "      <td>191792.06</td>\n",
       "    </tr>\n",
       "    <tr>\n",
       "      <th>2</th>\n",
       "      <td>153441.51</td>\n",
       "      <td>101145.55</td>\n",
       "      <td>407934.54</td>\n",
       "      <td>Florida</td>\n",
       "      <td>191050.39</td>\n",
       "    </tr>\n",
       "    <tr>\n",
       "      <th>3</th>\n",
       "      <td>144372.41</td>\n",
       "      <td>118671.85</td>\n",
       "      <td>383199.62</td>\n",
       "      <td>New York</td>\n",
       "      <td>182901.99</td>\n",
       "    </tr>\n",
       "    <tr>\n",
       "      <th>4</th>\n",
       "      <td>142107.34</td>\n",
       "      <td>91391.77</td>\n",
       "      <td>366168.42</td>\n",
       "      <td>Florida</td>\n",
       "      <td>166187.94</td>\n",
       "    </tr>\n",
       "    <tr>\n",
       "      <th>5</th>\n",
       "      <td>131876.90</td>\n",
       "      <td>99814.71</td>\n",
       "      <td>362861.36</td>\n",
       "      <td>New York</td>\n",
       "      <td>156991.12</td>\n",
       "    </tr>\n",
       "    <tr>\n",
       "      <th>6</th>\n",
       "      <td>134615.46</td>\n",
       "      <td>147198.87</td>\n",
       "      <td>127716.82</td>\n",
       "      <td>California</td>\n",
       "      <td>156122.51</td>\n",
       "    </tr>\n",
       "    <tr>\n",
       "      <th>7</th>\n",
       "      <td>130298.13</td>\n",
       "      <td>145530.06</td>\n",
       "      <td>323876.68</td>\n",
       "      <td>Florida</td>\n",
       "      <td>155752.60</td>\n",
       "    </tr>\n",
       "    <tr>\n",
       "      <th>8</th>\n",
       "      <td>120542.52</td>\n",
       "      <td>148718.95</td>\n",
       "      <td>311613.29</td>\n",
       "      <td>New York</td>\n",
       "      <td>152211.77</td>\n",
       "    </tr>\n",
       "    <tr>\n",
       "      <th>9</th>\n",
       "      <td>123334.88</td>\n",
       "      <td>108679.17</td>\n",
       "      <td>304981.62</td>\n",
       "      <td>California</td>\n",
       "      <td>149759.96</td>\n",
       "    </tr>\n",
       "  </tbody>\n",
       "</table>\n",
       "</div>"
      ],
      "text/plain": [
       "   R&D Spend  Administration  Marketing Spend       State     Profit\n",
       "0  165349.20       136897.80        471784.10    New York  192261.83\n",
       "1  162597.70       151377.59        443898.53  California  191792.06\n",
       "2  153441.51       101145.55        407934.54     Florida  191050.39\n",
       "3  144372.41       118671.85        383199.62    New York  182901.99\n",
       "4  142107.34        91391.77        366168.42     Florida  166187.94\n",
       "5  131876.90        99814.71        362861.36    New York  156991.12\n",
       "6  134615.46       147198.87        127716.82  California  156122.51\n",
       "7  130298.13       145530.06        323876.68     Florida  155752.60\n",
       "8  120542.52       148718.95        311613.29    New York  152211.77\n",
       "9  123334.88       108679.17        304981.62  California  149759.96"
      ]
     },
     "execution_count": 30,
     "metadata": {},
     "output_type": "execute_result"
    }
   ],
   "source": [
    "startup.head(10)"
   ]
  },
  {
   "cell_type": "code",
   "execution_count": 31,
   "id": "0e89f3d6",
   "metadata": {},
   "outputs": [
    {
     "data": {
      "text/plain": [
       "Index(['R&D Spend', 'Administration', 'Marketing Spend', 'State', 'Profit'], dtype='object')"
      ]
     },
     "execution_count": 31,
     "metadata": {},
     "output_type": "execute_result"
    }
   ],
   "source": [
    "startup.columns"
   ]
  },
  {
   "cell_type": "code",
   "execution_count": 32,
   "id": "34047d5f",
   "metadata": {},
   "outputs": [],
   "source": [
    "startup.rename(columns = {'R&D Spend': 'rd_spend', 'Marketing Spend': 'market_spend', 'Administration': 'admin'}, inplace = True)"
   ]
  },
  {
   "cell_type": "code",
   "execution_count": 33,
   "id": "06007254",
   "metadata": {},
   "outputs": [
    {
     "data": {
      "text/plain": [
       "Index(['rd_spend', 'admin', 'market_spend', 'State', 'Profit'], dtype='object')"
      ]
     },
     "execution_count": 33,
     "metadata": {},
     "output_type": "execute_result"
    }
   ],
   "source": [
    "startup.columns"
   ]
  },
  {
   "cell_type": "code",
   "execution_count": 34,
   "id": "6d2b849f",
   "metadata": {},
   "outputs": [
    {
     "data": {
      "text/html": [
       "<div>\n",
       "<style scoped>\n",
       "    .dataframe tbody tr th:only-of-type {\n",
       "        vertical-align: middle;\n",
       "    }\n",
       "\n",
       "    .dataframe tbody tr th {\n",
       "        vertical-align: top;\n",
       "    }\n",
       "\n",
       "    .dataframe thead th {\n",
       "        text-align: right;\n",
       "    }\n",
       "</style>\n",
       "<table border=\"1\" class=\"dataframe\">\n",
       "  <thead>\n",
       "    <tr style=\"text-align: right;\">\n",
       "      <th></th>\n",
       "      <th>rd_spend</th>\n",
       "      <th>admin</th>\n",
       "      <th>market_spend</th>\n",
       "      <th>Profit</th>\n",
       "    </tr>\n",
       "  </thead>\n",
       "  <tbody>\n",
       "    <tr>\n",
       "      <th>rd_spend</th>\n",
       "      <td>1.000000</td>\n",
       "      <td>0.241955</td>\n",
       "      <td>0.724248</td>\n",
       "      <td>0.972900</td>\n",
       "    </tr>\n",
       "    <tr>\n",
       "      <th>admin</th>\n",
       "      <td>0.241955</td>\n",
       "      <td>1.000000</td>\n",
       "      <td>-0.032154</td>\n",
       "      <td>0.200717</td>\n",
       "    </tr>\n",
       "    <tr>\n",
       "      <th>market_spend</th>\n",
       "      <td>0.724248</td>\n",
       "      <td>-0.032154</td>\n",
       "      <td>1.000000</td>\n",
       "      <td>0.747766</td>\n",
       "    </tr>\n",
       "    <tr>\n",
       "      <th>Profit</th>\n",
       "      <td>0.972900</td>\n",
       "      <td>0.200717</td>\n",
       "      <td>0.747766</td>\n",
       "      <td>1.000000</td>\n",
       "    </tr>\n",
       "  </tbody>\n",
       "</table>\n",
       "</div>"
      ],
      "text/plain": [
       "              rd_spend     admin  market_spend    Profit\n",
       "rd_spend      1.000000  0.241955      0.724248  0.972900\n",
       "admin         0.241955  1.000000     -0.032154  0.200717\n",
       "market_spend  0.724248 -0.032154      1.000000  0.747766\n",
       "Profit        0.972900  0.200717      0.747766  1.000000"
      ]
     },
     "execution_count": 34,
     "metadata": {},
     "output_type": "execute_result"
    }
   ],
   "source": [
    "startup.corr()"
   ]
  },
  {
   "cell_type": "code",
   "execution_count": 35,
   "id": "ba9af902",
   "metadata": {},
   "outputs": [
    {
     "data": {
      "text/plain": [
       "<seaborn.axisgrid.PairGrid at 0x1a3a8ce7b50>"
      ]
     },
     "execution_count": 35,
     "metadata": {},
     "output_type": "execute_result"
    },
    {
     "data": {
      "image/png": "[encoded data removed]",
      "text/plain": [
       "<Figure size 720x720 with 20 Axes>"
      ]
     },
     "metadata": {
      "needs_background": "light"
     },
     "output_type": "display_data"
    }
   ],
   "source": [
    "sns.pairplot(startup)"
   ]
  },
  {
   "cell_type": "markdown",
   "id": "47382c4e",
   "metadata": {},
   "source": [
    "### List of the assumptions:\n",
    "1. The features should be independent of each others\n",
    "2. Errors and features are independent of each other\n",
    "3. Q-Q plotting\n",
    "4. Homoscedasticity: Variance of errors should be constant\n",
    "5. Linearity: Y is having linear relation with all features"
   ]
  },
  {
   "cell_type": "markdown",
   "id": "aad39502",
   "metadata": {},
   "source": [
    "### 1. The features should be independent of each other:\n",
    "- Clearly from above we see that rd_spend is dependent with market_spend\n",
    "- Also admin is not making much difference with Profit"
   ]
  },
  {
   "cell_type": "code",
   "execution_count": 36,
   "id": "cda11fba",
   "metadata": {
    "scrolled": false
   },
   "outputs": [
    {
     "data": {
      "text/html": [
       "<table class=\"simpletable\">\n",
       "<caption>OLS Regression Results</caption>\n",
       "<tr>\n",
       "  <th>Dep. Variable:</th>         <td>Profit</td>      <th>  R-squared:         </th> <td>   0.951</td>\n",
       "</tr>\n",
       "<tr>\n",
       "  <th>Model:</th>                   <td>OLS</td>       <th>  Adj. R-squared:    </th> <td>   0.948</td>\n",
       "</tr>\n",
       "<tr>\n",
       "  <th>Method:</th>             <td>Least Squares</td>  <th>  F-statistic:       </th> <td>   296.0</td>\n",
       "</tr>\n",
       "<tr>\n",
       "  <th>Date:</th>             <td>Fri, 22 Jul 2022</td> <th>  Prob (F-statistic):</th> <td>4.53e-30</td>\n",
       "</tr>\n",
       "<tr>\n",
       "  <th>Time:</th>                 <td>17:54:27</td>     <th>  Log-Likelihood:    </th> <td> -525.39</td>\n",
       "</tr>\n",
       "<tr>\n",
       "  <th>No. Observations:</th>      <td>    50</td>      <th>  AIC:               </th> <td>   1059.</td>\n",
       "</tr>\n",
       "<tr>\n",
       "  <th>Df Residuals:</th>          <td>    46</td>      <th>  BIC:               </th> <td>   1066.</td>\n",
       "</tr>\n",
       "<tr>\n",
       "  <th>Df Model:</th>              <td>     3</td>      <th>                     </th>     <td> </td>   \n",
       "</tr>\n",
       "<tr>\n",
       "  <th>Covariance Type:</th>      <td>nonrobust</td>    <th>                     </th>     <td> </td>   \n",
       "</tr>\n",
       "</table>\n",
       "<table class=\"simpletable\">\n",
       "<tr>\n",
       "        <td></td>          <th>coef</th>     <th>std err</th>      <th>t</th>      <th>P>|t|</th>  <th>[0.025</th>    <th>0.975]</th>  \n",
       "</tr>\n",
       "<tr>\n",
       "  <th>Intercept</th>    <td> 5.012e+04</td> <td> 6572.353</td> <td>    7.626</td> <td> 0.000</td> <td> 3.69e+04</td> <td> 6.34e+04</td>\n",
       "</tr>\n",
       "<tr>\n",
       "  <th>admin</th>        <td>   -0.0268</td> <td>    0.051</td> <td>   -0.526</td> <td> 0.602</td> <td>   -0.130</td> <td>    0.076</td>\n",
       "</tr>\n",
       "<tr>\n",
       "  <th>rd_spend</th>     <td>    0.8057</td> <td>    0.045</td> <td>   17.846</td> <td> 0.000</td> <td>    0.715</td> <td>    0.897</td>\n",
       "</tr>\n",
       "<tr>\n",
       "  <th>market_spend</th> <td>    0.0272</td> <td>    0.016</td> <td>    1.655</td> <td> 0.105</td> <td>   -0.006</td> <td>    0.060</td>\n",
       "</tr>\n",
       "</table>\n",
       "<table class=\"simpletable\">\n",
       "<tr>\n",
       "  <th>Omnibus:</th>       <td>14.838</td> <th>  Durbin-Watson:     </th> <td>   1.282</td>\n",
       "</tr>\n",
       "<tr>\n",
       "  <th>Prob(Omnibus):</th> <td> 0.001</td> <th>  Jarque-Bera (JB):  </th> <td>  21.442</td>\n",
       "</tr>\n",
       "<tr>\n",
       "  <th>Skew:</th>          <td>-0.949</td> <th>  Prob(JB):          </th> <td>2.21e-05</td>\n",
       "</tr>\n",
       "<tr>\n",
       "  <th>Kurtosis:</th>      <td> 5.586</td> <th>  Cond. No.          </th> <td>1.40e+06</td>\n",
       "</tr>\n",
       "</table><br/><br/>Notes:<br/>[1] Standard Errors assume that the covariance matrix of the errors is correctly specified.<br/>[2] The condition number is large, 1.4e+06. This might indicate that there are<br/>strong multicollinearity or other numerical problems."
      ],
      "text/plain": [
       "<class 'statsmodels.iolib.summary.Summary'>\n",
       "\"\"\"\n",
       "                            OLS Regression Results                            \n",
       "==============================================================================\n",
       "Dep. Variable:                 Profit   R-squared:                       0.951\n",
       "Model:                            OLS   Adj. R-squared:                  0.948\n",
       "Method:                 Least Squares   F-statistic:                     296.0\n",
       "Date:                Fri, 22 Jul 2022   Prob (F-statistic):           4.53e-30\n",
       "Time:                        17:54:27   Log-Likelihood:                -525.39\n",
       "No. Observations:                  50   AIC:                             1059.\n",
       "Df Residuals:                      46   BIC:                             1066.\n",
       "Df Model:                           3                                         \n",
       "Covariance Type:            nonrobust                                         \n",
       "================================================================================\n",
       "                   coef    std err          t      P>|t|      [0.025      0.975]\n",
       "--------------------------------------------------------------------------------\n",
       "Intercept     5.012e+04   6572.353      7.626      0.000    3.69e+04    6.34e+04\n",
       "admin           -0.0268      0.051     -0.526      0.602      -0.130       0.076\n",
       "rd_spend         0.8057      0.045     17.846      0.000       0.715       0.897\n",
       "market_spend     0.0272      0.016      1.655      0.105      -0.006       0.060\n",
       "==============================================================================\n",
       "Omnibus:                       14.838   Durbin-Watson:                   1.282\n",
       "Prob(Omnibus):                  0.001   Jarque-Bera (JB):               21.442\n",
       "Skew:                          -0.949   Prob(JB):                     2.21e-05\n",
       "Kurtosis:                       5.586   Cond. No.                     1.40e+06\n",
       "==============================================================================\n",
       "\n",
       "Notes:\n",
       "[1] Standard Errors assume that the covariance matrix of the errors is correctly specified.\n",
       "[2] The condition number is large, 1.4e+06. This might indicate that there are\n",
       "strong multicollinearity or other numerical problems.\n",
       "\"\"\""
      ]
     },
     "execution_count": 36,
     "metadata": {},
     "output_type": "execute_result"
    }
   ],
   "source": [
    "# preparing a basic model\n",
    "model = smf.ols('Profit~admin+rd_spend+market_spend', data = startup).fit()\n",
    "model.summary()"
   ]
  },
  {
   "cell_type": "markdown",
   "id": "974ef92b",
   "metadata": {},
   "source": [
    "- The market_spend and rd_spend are dependent on each other\n",
    "- Also admin doesn't contribute much to the model(as per the model says with the higher pvalue of admin)\n",
    "- Lets, plot slr model using all features to predict the target variable"
   ]
  },
  {
   "cell_type": "code",
   "execution_count": 37,
   "id": "1bafff7b",
   "metadata": {},
   "outputs": [
    {
     "name": "stdout",
     "output_type": "stream",
     "text": [
      "0.04028714077757223 Intercept    0.004\n",
      "admin        0.162\n",
      "dtype: float64\n"
     ]
    }
   ],
   "source": [
    "# profit vs admin\n",
    "# check admin vs profit to make sure to remove admin\n",
    "admin_pr_model = smf.ols('Profit~admin', data = startup).fit()\n",
    "print(admin_pr_model.rsquared , round((admin_pr_model.pvalues),3)) # rsqr= 0.04 & pval=0.162"
   ]
  },
  {
   "cell_type": "code",
   "execution_count": 38,
   "id": "7c9d793c",
   "metadata": {},
   "outputs": [
    {
     "name": "stdout",
     "output_type": "stream",
     "text": [
      "0.5591535746115515 Intercept       0.0\n",
      "market_spend    0.0\n",
      "dtype: float64\n"
     ]
    }
   ],
   "source": [
    "# profit vs market_spend\n",
    "mk_pr_model = smf.ols('Profit~market_spend', data = startup).fit()\n",
    "print(mk_pr_model.rsquared,round((mk_pr_model.pvalues),3)) # rsqr= 0.56 & pval=0.0"
   ]
  },
  {
   "cell_type": "code",
   "execution_count": 39,
   "id": "ebebe448",
   "metadata": {},
   "outputs": [
    {
     "name": "stdout",
     "output_type": "stream",
     "text": [
      "0.9465353160804393 Intercept    0.0\n",
      "rd_spend     0.0\n",
      "dtype: float64\n"
     ]
    }
   ],
   "source": [
    "# profit vs rd_spend\n",
    "rd_pr_model = smf.ols('Profit~rd_spend',data = startup).fit()\n",
    "print(rd_pr_model.rsquared , round((rd_pr_model.pvalues),3)) # rsqr= 0.95 & pval=0.0"
   ]
  },
  {
   "cell_type": "markdown",
   "id": "0511e2c9",
   "metadata": {},
   "source": [
    "#### Clearly, the rd_spend's contributon to Profit prediction is much more than market_spend's contribution"
   ]
  },
  {
   "cell_type": "markdown",
   "id": "ecc8f040",
   "metadata": {},
   "source": [
    "- We know that market_spend and rd_spend are correlated from correlation matrix and from the pairplot diagram"
   ]
  },
  {
   "cell_type": "markdown",
   "id": "0f6b5abc",
   "metadata": {},
   "source": [
    "Another way to see the multi-collinearity between the features is: calculating the **VIF Factor**"
   ]
  },
  {
   "cell_type": "code",
   "execution_count": 40,
   "id": "177cbad6",
   "metadata": {},
   "outputs": [
    {
     "data": {
      "text/plain": [
       "1.1750910070550455"
      ]
     },
     "execution_count": 40,
     "metadata": {},
     "output_type": "execute_result"
    }
   ],
   "source": [
    "admin_r = smf.ols('admin~market_spend+rd_spend',data=startup).fit().rsquared\n",
    "vif_admin = 1 / (1- admin_r)\n",
    "vif_admin"
   ]
  },
  {
   "cell_type": "code",
   "execution_count": 41,
   "id": "52f2b5b9",
   "metadata": {},
   "outputs": [
    {
     "data": {
      "text/plain": [
       "2.3267732905308773"
      ]
     },
     "execution_count": 41,
     "metadata": {},
     "output_type": "execute_result"
    }
   ],
   "source": [
    "market_r = smf.ols('market_spend~admin+rd_spend',data=startup).fit().rsquared\n",
    "vif_market = 1 / (1- market_r)\n",
    "vif_market"
   ]
  },
  {
   "cell_type": "code",
   "execution_count": 42,
   "id": "eb4f9220",
   "metadata": {},
   "outputs": [
    {
     "data": {
      "text/plain": [
       "2.468903069994701"
      ]
     },
     "execution_count": 42,
     "metadata": {},
     "output_type": "execute_result"
    }
   ],
   "source": [
    "rd_r = smf.ols('rd_spend~admin+market_spend', data = startup).fit().rsquared\n",
    "vif_rd = 1 / (1-rd_r)\n",
    "vif_rd"
   ]
  },
  {
   "cell_type": "code",
   "execution_count": 43,
   "id": "fb7e4015",
   "metadata": {},
   "outputs": [],
   "source": [
    "dict_ = {'Variables': ['market_spend', 'rd_spend', 'admin'] , 'VIF': [vif_market , vif_rd , vif_admin]}"
   ]
  },
  {
   "cell_type": "code",
   "execution_count": 44,
   "id": "3441e2b8",
   "metadata": {},
   "outputs": [],
   "source": [
    "VIFframe = pd.DataFrame(dict_)"
   ]
  },
  {
   "cell_type": "code",
   "execution_count": 45,
   "id": "555557fc",
   "metadata": {},
   "outputs": [
    {
     "data": {
      "text/html": [
       "<div>\n",
       "<style scoped>\n",
       "    .dataframe tbody tr th:only-of-type {\n",
       "        vertical-align: middle;\n",
       "    }\n",
       "\n",
       "    .dataframe tbody tr th {\n",
       "        vertical-align: top;\n",
       "    }\n",
       "\n",
       "    .dataframe thead th {\n",
       "        text-align: right;\n",
       "    }\n",
       "</style>\n",
       "<table border=\"1\" class=\"dataframe\">\n",
       "  <thead>\n",
       "    <tr style=\"text-align: right;\">\n",
       "      <th></th>\n",
       "      <th>Variables</th>\n",
       "      <th>VIF</th>\n",
       "    </tr>\n",
       "  </thead>\n",
       "  <tbody>\n",
       "    <tr>\n",
       "      <th>0</th>\n",
       "      <td>market_spend</td>\n",
       "      <td>2.326773</td>\n",
       "    </tr>\n",
       "    <tr>\n",
       "      <th>1</th>\n",
       "      <td>rd_spend</td>\n",
       "      <td>2.468903</td>\n",
       "    </tr>\n",
       "    <tr>\n",
       "      <th>2</th>\n",
       "      <td>admin</td>\n",
       "      <td>1.175091</td>\n",
       "    </tr>\n",
       "  </tbody>\n",
       "</table>\n",
       "</div>"
      ],
      "text/plain": [
       "      Variables       VIF\n",
       "0  market_spend  2.326773\n",
       "1      rd_spend  2.468903\n",
       "2         admin  1.175091"
      ]
     },
     "execution_count": 45,
     "metadata": {},
     "output_type": "execute_result"
    }
   ],
   "source": [
    "VIFframe"
   ]
  },
  {
   "cell_type": "markdown",
   "id": "7f778e34",
   "metadata": {},
   "source": [
    "### Market_spend and rd_spend are dependent"
   ]
  },
  {
   "cell_type": "code",
   "execution_count": 46,
   "id": "f9ca986c",
   "metadata": {},
   "outputs": [],
   "source": [
    "admin_rd = smf.ols('Profit~admin+rd_spend', data = startup ).fit()"
   ]
  },
  {
   "cell_type": "code",
   "execution_count": 47,
   "id": "b04e3ba8",
   "metadata": {},
   "outputs": [
    {
     "data": {
      "text/plain": [
       "<statsmodels.regression.linear_model.RegressionResultsWrapper at 0x1a3a9b5c3a0>"
      ]
     },
     "execution_count": 47,
     "metadata": {},
     "output_type": "execute_result"
    }
   ],
   "source": [
    "admin_rd"
   ]
  },
  {
   "cell_type": "markdown",
   "id": "cec2c466",
   "metadata": {},
   "source": [
    "- Clearly we will use RDSpend and Admin to predict the Profit"
   ]
  },
  {
   "cell_type": "code",
   "execution_count": 48,
   "id": "a83ba32f",
   "metadata": {},
   "outputs": [
    {
     "data": {
      "text/plain": [
       "0.948"
      ]
     },
     "execution_count": 48,
     "metadata": {},
     "output_type": "execute_result"
    }
   ],
   "source": [
    "round((admin_rd.rsquared),3)"
   ]
  },
  {
   "cell_type": "markdown",
   "id": "923b4453",
   "metadata": {},
   "source": [
    "- Although 94.8 accuracy is good enough, but the pvalue of admin is high, let's create a model with just one feature rd_spend"
   ]
  },
  {
   "cell_type": "code",
   "execution_count": 49,
   "id": "5f650144",
   "metadata": {},
   "outputs": [],
   "source": [
    "rd_spend_model = smf.ols('Profit~rd_spend', data= startup).fit()"
   ]
  },
  {
   "cell_type": "code",
   "execution_count": 50,
   "id": "7fece367",
   "metadata": {
    "scrolled": true
   },
   "outputs": [
    {
     "data": {
      "text/plain": [
       "0.947"
      ]
     },
     "execution_count": 50,
     "metadata": {},
     "output_type": "execute_result"
    }
   ],
   "source": [
    "round((rd_spend_model.rsquared),3)"
   ]
  },
  {
   "cell_type": "markdown",
   "id": "3928aa03",
   "metadata": {},
   "source": [
    "### ==============Accuracy:0.948 using rd_spend and admin as features ================"
   ]
  }
 ],
 "metadata": {
  "kernelspec": {
   "display_name": "Python 3 (ipykernel)",
   "language": "python",
   "name": "python3"
  },
  "language_info": {
   "codemirror_mode": {
    "name": "ipython",
    "version": 3
   },
   "file_extension": ".py",
   "mimetype": "text/x-python",
   "name": "python",
   "nbconvert_exporter": "python",
   "pygments_lexer": "ipython3",
   "version": "3.9.7"
  }
 },
 "nbformat": 4,
 "nbformat_minor": 5
}
